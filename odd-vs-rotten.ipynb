{
 "cells": [
  {
   "cell_type": "code",
   "execution_count": 1,
   "metadata": {},
   "outputs": [
    {
     "name": "stderr",
     "output_type": "stream",
     "text": [
      "Using TensorFlow backend.\n",
      "C:\\Users\\srikanth\\anaconda3\\lib\\site-packages\\tensorflow\\python\\framework\\dtypes.py:516: FutureWarning: Passing (type, 1) or '1type' as a synonym of type is deprecated; in a future version of numpy, it will be understood as (type, (1,)) / '(1,)type'.\n",
      "  _np_qint8 = np.dtype([(\"qint8\", np.int8, 1)])\n",
      "C:\\Users\\srikanth\\anaconda3\\lib\\site-packages\\tensorflow\\python\\framework\\dtypes.py:517: FutureWarning: Passing (type, 1) or '1type' as a synonym of type is deprecated; in a future version of numpy, it will be understood as (type, (1,)) / '(1,)type'.\n",
      "  _np_quint8 = np.dtype([(\"quint8\", np.uint8, 1)])\n",
      "C:\\Users\\srikanth\\anaconda3\\lib\\site-packages\\tensorflow\\python\\framework\\dtypes.py:518: FutureWarning: Passing (type, 1) or '1type' as a synonym of type is deprecated; in a future version of numpy, it will be understood as (type, (1,)) / '(1,)type'.\n",
      "  _np_qint16 = np.dtype([(\"qint16\", np.int16, 1)])\n",
      "C:\\Users\\srikanth\\anaconda3\\lib\\site-packages\\tensorflow\\python\\framework\\dtypes.py:519: FutureWarning: Passing (type, 1) or '1type' as a synonym of type is deprecated; in a future version of numpy, it will be understood as (type, (1,)) / '(1,)type'.\n",
      "  _np_quint16 = np.dtype([(\"quint16\", np.uint16, 1)])\n",
      "C:\\Users\\srikanth\\anaconda3\\lib\\site-packages\\tensorflow\\python\\framework\\dtypes.py:520: FutureWarning: Passing (type, 1) or '1type' as a synonym of type is deprecated; in a future version of numpy, it will be understood as (type, (1,)) / '(1,)type'.\n",
      "  _np_qint32 = np.dtype([(\"qint32\", np.int32, 1)])\n",
      "C:\\Users\\srikanth\\anaconda3\\lib\\site-packages\\tensorflow\\python\\framework\\dtypes.py:525: FutureWarning: Passing (type, 1) or '1type' as a synonym of type is deprecated; in a future version of numpy, it will be understood as (type, (1,)) / '(1,)type'.\n",
      "  np_resource = np.dtype([(\"resource\", np.ubyte, 1)])\n",
      "C:\\Users\\srikanth\\anaconda3\\lib\\site-packages\\tensorboard\\compat\\tensorflow_stub\\dtypes.py:541: FutureWarning: Passing (type, 1) or '1type' as a synonym of type is deprecated; in a future version of numpy, it will be understood as (type, (1,)) / '(1,)type'.\n",
      "  _np_qint8 = np.dtype([(\"qint8\", np.int8, 1)])\n",
      "C:\\Users\\srikanth\\anaconda3\\lib\\site-packages\\tensorboard\\compat\\tensorflow_stub\\dtypes.py:542: FutureWarning: Passing (type, 1) or '1type' as a synonym of type is deprecated; in a future version of numpy, it will be understood as (type, (1,)) / '(1,)type'.\n",
      "  _np_quint8 = np.dtype([(\"quint8\", np.uint8, 1)])\n",
      "C:\\Users\\srikanth\\anaconda3\\lib\\site-packages\\tensorboard\\compat\\tensorflow_stub\\dtypes.py:543: FutureWarning: Passing (type, 1) or '1type' as a synonym of type is deprecated; in a future version of numpy, it will be understood as (type, (1,)) / '(1,)type'.\n",
      "  _np_qint16 = np.dtype([(\"qint16\", np.int16, 1)])\n",
      "C:\\Users\\srikanth\\anaconda3\\lib\\site-packages\\tensorboard\\compat\\tensorflow_stub\\dtypes.py:544: FutureWarning: Passing (type, 1) or '1type' as a synonym of type is deprecated; in a future version of numpy, it will be understood as (type, (1,)) / '(1,)type'.\n",
      "  _np_quint16 = np.dtype([(\"quint16\", np.uint16, 1)])\n",
      "C:\\Users\\srikanth\\anaconda3\\lib\\site-packages\\tensorboard\\compat\\tensorflow_stub\\dtypes.py:545: FutureWarning: Passing (type, 1) or '1type' as a synonym of type is deprecated; in a future version of numpy, it will be understood as (type, (1,)) / '(1,)type'.\n",
      "  _np_qint32 = np.dtype([(\"qint32\", np.int32, 1)])\n",
      "C:\\Users\\srikanth\\anaconda3\\lib\\site-packages\\tensorboard\\compat\\tensorflow_stub\\dtypes.py:550: FutureWarning: Passing (type, 1) or '1type' as a synonym of type is deprecated; in a future version of numpy, it will be understood as (type, (1,)) / '(1,)type'.\n",
      "  np_resource = np.dtype([(\"resource\", np.ubyte, 1)])\n"
     ]
    }
   ],
   "source": [
    "# Convolutional Neural Network (odd tomatoes vs rotten tomatoes)\n",
    "\n",
    "# Building the CNN\n",
    "\n",
    "#Importing Libraries\n",
    "from keras.preprocessing.image import ImageDataGenerator\n",
    "from keras.models import Sequential \n",
    "from keras.layers import Conv2D,MaxPooling2D,Activation,Dropout,Flatten,Dense\n",
    "from keras import backend as K\n",
    "import numpy as np\n",
    "from keras.preprocessing import image\n",
    "from keras import optimizers\n",
    "\n",
    "import matplotlib.pyplot as plt\n",
    "from sklearn import svm, datasets\n",
    "from sklearn.model_selection import train_test_split\n",
    "from sklearn.metrics import confusion_matrix\n",
    "import itertools\n",
    "import numpy as np\n",
    "import matplotlib.pyplot as plt"
   ]
  },
  {
   "cell_type": "code",
   "execution_count": 6,
   "metadata": {},
   "outputs": [],
   "source": [
    "#loading data\n",
    "\n",
    "image_width=150\n",
    "image_height=150\n",
    "\n",
    "train_data_dir='odd_vs_rotten/tomatoes_data/train'\n",
    "validation_data_dir='odd_vs_rotten/tomatoes_data/validation'\n",
    "test_data_dir='odd_vs_rotten/tomatoes_data/test'\n",
    "\n",
    "train_sample=100\n",
    "validation_sample=30\n",
    "test_sample=10\n",
    "\n",
    "epochs=50\n",
    "batch_size=10\n",
    "test_size=30\n",
    "\n"
   ]
  },
  {
   "cell_type": "code",
   "execution_count": 7,
   "metadata": {},
   "outputs": [],
   "source": [
    "if K.image_data_format() == 'channels_first':\n",
    "    input_shape= (3,image_width,image_height)\n",
    "else :\n",
    "    input_shape= (image_width,image_height,3)"
   ]
  },
  {
   "cell_type": "code",
   "execution_count": 8,
   "metadata": {},
   "outputs": [],
   "source": [
    "# Data Augmentation\n",
    "\n",
    "train_datagen= ImageDataGenerator(rotation_range=40,\n",
    "                                  width_shift_range=0.2,\n",
    "                                  height_shift_range=0.2,\n",
    "                                  shear_range=0.2,\n",
    "                                  zoom_range=0.2,\n",
    "                                  rescale=1./255,\n",
    "                                  horizontal_flip=True,\n",
    "                                 fill_mode='nearest');\n",
    "\n",
    "validation_datagen= ImageDataGenerator(rescale=1./255)\n",
    "test_datagen=ImageDataGenerator(rescale=1./255)"
   ]
  },
  {
   "cell_type": "code",
   "execution_count": 11,
   "metadata": {},
   "outputs": [
    {
     "name": "stdout",
     "output_type": "stream",
     "text": [
      "Found 200 images belonging to 2 classes.\n",
      "Found 60 images belonging to 2 classes.\n",
      "Found 30 images belonging to 2 classes.\n"
     ]
    }
   ],
   "source": [
    "train_genarator= train_datagen.flow_from_directory(train_data_dir,target_size=(image_width,image_height),batch_size=batch_size,class_mode='binary')\n",
    "\n",
    "\n",
    "validation_genarator= train_datagen.flow_from_directory(validation_data_dir,target_size=(image_width,image_height),batch_size=batch_size,class_mode='binary')\n",
    "\n",
    "\n",
    "test_genarator= train_datagen.flow_from_directory(test_data_dir,target_size=(image_width,image_height),batch_size=test_size,class_mode='binary')"
   ]
  },
  {
   "cell_type": "code",
   "execution_count": 12,
   "metadata": {},
   "outputs": [],
   "source": [
    "#build model\n",
    "\n",
    "# Initialising the CNN\n",
    "\n",
    "model = Sequential()"
   ]
  },
  {
   "cell_type": "code",
   "execution_count": 13,
   "metadata": {},
   "outputs": [
    {
     "name": "stdout",
     "output_type": "stream",
     "text": [
      "WARNING:tensorflow:From C:\\Users\\srikanth\\anaconda3\\lib\\site-packages\\keras\\backend\\tensorflow_backend.py:4070: The name tf.nn.max_pool is deprecated. Please use tf.nn.max_pool2d instead.\n",
      "\n"
     ]
    }
   ],
   "source": [
    "# Convolution\n",
    "model.add(Conv2D(32,(3,3),input_shape=input_shape))\n",
    "# Activation Function\n",
    "model.add(Activation('relu'))\n",
    "# Pooling\n",
    "model.add(MaxPooling2D(pool_size=(2,2)))"
   ]
  },
  {
   "cell_type": "code",
   "execution_count": 14,
   "metadata": {},
   "outputs": [],
   "source": [
    "# Adding a second convolutional layer\n",
    "model.add(Conv2D(32,(3,3),input_shape=input_shape))\n",
    "model.add(Activation('relu'))\n",
    "model.add(MaxPooling2D(pool_size=(2,2)))\n",
    "\n",
    "\n",
    "# Adding a third convolutional layer\n",
    "model.add(Conv2D(64,(3,3),input_shape=input_shape))\n",
    "model.add(Activation('relu'))\n",
    "model.add(MaxPooling2D(pool_size=(2,2)))"
   ]
  },
  {
   "cell_type": "code",
   "execution_count": 15,
   "metadata": {},
   "outputs": [],
   "source": [
    "# Flattening\n",
    "model.add(Flatten())"
   ]
  },
  {
   "cell_type": "code",
   "execution_count": 16,
   "metadata": {},
   "outputs": [],
   "source": [
    "# Full connection\n",
    "model.add(Dense(64))\n",
    "model.add(Activation('relu'))\n",
    "model.add(Dropout(0.5))"
   ]
  },
  {
   "cell_type": "code",
   "execution_count": 17,
   "metadata": {},
   "outputs": [],
   "source": [
    "model.add(Dense(1))\n",
    "model.add(Activation('sigmoid'))"
   ]
  },
  {
   "cell_type": "code",
   "execution_count": 18,
   "metadata": {},
   "outputs": [
    {
     "name": "stdout",
     "output_type": "stream",
     "text": [
      "Model: \"sequential_1\"\n",
      "_________________________________________________________________\n",
      "Layer (type)                 Output Shape              Param #   \n",
      "=================================================================\n",
      "conv2d_1 (Conv2D)            (None, 148, 148, 32)      896       \n",
      "_________________________________________________________________\n",
      "activation_1 (Activation)    (None, 148, 148, 32)      0         \n",
      "_________________________________________________________________\n",
      "max_pooling2d_1 (MaxPooling2 (None, 74, 74, 32)        0         \n",
      "_________________________________________________________________\n",
      "conv2d_2 (Conv2D)            (None, 72, 72, 32)        9248      \n",
      "_________________________________________________________________\n",
      "activation_2 (Activation)    (None, 72, 72, 32)        0         \n",
      "_________________________________________________________________\n",
      "max_pooling2d_2 (MaxPooling2 (None, 36, 36, 32)        0         \n",
      "_________________________________________________________________\n",
      "conv2d_3 (Conv2D)            (None, 34, 34, 64)        18496     \n",
      "_________________________________________________________________\n",
      "activation_3 (Activation)    (None, 34, 34, 64)        0         \n",
      "_________________________________________________________________\n",
      "max_pooling2d_3 (MaxPooling2 (None, 17, 17, 64)        0         \n",
      "_________________________________________________________________\n",
      "flatten_1 (Flatten)          (None, 18496)             0         \n",
      "_________________________________________________________________\n",
      "dense_1 (Dense)              (None, 64)                1183808   \n",
      "_________________________________________________________________\n",
      "activation_4 (Activation)    (None, 64)                0         \n",
      "_________________________________________________________________\n",
      "dropout_1 (Dropout)          (None, 64)                0         \n",
      "_________________________________________________________________\n",
      "dense_2 (Dense)              (None, 1)                 65        \n",
      "_________________________________________________________________\n",
      "activation_5 (Activation)    (None, 1)                 0         \n",
      "=================================================================\n",
      "Total params: 1,212,513\n",
      "Trainable params: 1,212,513\n",
      "Non-trainable params: 0\n",
      "_________________________________________________________________\n"
     ]
    }
   ],
   "source": [
    "model.summary()"
   ]
  },
  {
   "cell_type": "code",
   "execution_count": 19,
   "metadata": {},
   "outputs": [
    {
     "name": "stdout",
     "output_type": "stream",
     "text": [
      "WARNING:tensorflow:From C:\\Users\\srikanth\\anaconda3\\lib\\site-packages\\tensorflow\\python\\ops\\nn_impl.py:180: add_dispatch_support.<locals>.wrapper (from tensorflow.python.ops.array_ops) is deprecated and will be removed in a future version.\n",
      "Instructions for updating:\n",
      "Use tf.where in 2.0, which has the same broadcast rule as np.where\n"
     ]
    }
   ],
   "source": [
    "# Compiling the CNN\n",
    "model.compile(loss='binary_crossentropy',optimizer='RMSprop',metrics=['accuracy'])"
   ]
  },
  {
   "cell_type": "code",
   "execution_count": 20,
   "metadata": {
    "scrolled": true
   },
   "outputs": [
    {
     "name": "stdout",
     "output_type": "stream",
     "text": [
      "starting training....\n",
      "WARNING:tensorflow:From C:\\Users\\srikanth\\anaconda3\\lib\\site-packages\\keras\\backend\\tensorflow_backend.py:422: The name tf.global_variables is deprecated. Please use tf.compat.v1.global_variables instead.\n",
      "\n",
      "Epoch 1/50\n",
      "100/100 [==============================] - 38s 379ms/step - loss: 0.6995 - accuracy: 0.6420 - val_loss: 0.4310 - val_accuracy: 0.6667\n",
      "Epoch 2/50\n",
      "100/100 [==============================] - 35s 348ms/step - loss: 0.5739 - accuracy: 0.7220 - val_loss: 0.6811 - val_accuracy: 0.6967\n",
      "Epoch 3/50\n",
      "100/100 [==============================] - 35s 350ms/step - loss: 0.5261 - accuracy: 0.7650 - val_loss: 0.6971 - val_accuracy: 0.7267\n",
      "Epoch 4/50\n",
      "100/100 [==============================] - 35s 355ms/step - loss: 0.5063 - accuracy: 0.7620 - val_loss: 0.8564 - val_accuracy: 0.6633\n",
      "Epoch 5/50\n",
      "100/100 [==============================] - 35s 347ms/step - loss: 0.4829 - accuracy: 0.7760 - val_loss: 0.5175 - val_accuracy: 0.7167\n",
      "Epoch 6/50\n",
      "100/100 [==============================] - 34s 336ms/step - loss: 0.4731 - accuracy: 0.7770 - val_loss: 0.5588 - val_accuracy: 0.6433\n",
      "Epoch 7/50\n",
      "100/100 [==============================] - 34s 344ms/step - loss: 0.4564 - accuracy: 0.7980 - val_loss: 0.3876 - val_accuracy: 0.7467\n",
      "Epoch 8/50\n",
      "100/100 [==============================] - 35s 352ms/step - loss: 0.4673 - accuracy: 0.7980 - val_loss: 0.8901 - val_accuracy: 0.6933\n",
      "Epoch 9/50\n",
      "100/100 [==============================] - 36s 355ms/step - loss: 0.4435 - accuracy: 0.8200 - val_loss: 1.0585 - val_accuracy: 0.7600\n",
      "Epoch 10/50\n",
      "100/100 [==============================] - 36s 357ms/step - loss: 0.4089 - accuracy: 0.8250 - val_loss: 0.9726 - val_accuracy: 0.7433\n",
      "Epoch 11/50\n",
      "100/100 [==============================] - 35s 351ms/step - loss: 0.4232 - accuracy: 0.8230 - val_loss: 0.6238 - val_accuracy: 0.7667\n",
      "Epoch 12/50\n",
      "100/100 [==============================] - 34s 341ms/step - loss: 0.3930 - accuracy: 0.8260 - val_loss: 0.1860 - val_accuracy: 0.7233\n",
      "Epoch 13/50\n",
      "100/100 [==============================] - 36s 356ms/step - loss: 0.4154 - accuracy: 0.8130 - val_loss: 1.1404 - val_accuracy: 0.7400\n",
      "Epoch 14/50\n",
      "100/100 [==============================] - 35s 348ms/step - loss: 0.4281 - accuracy: 0.8360 - val_loss: 0.5240 - val_accuracy: 0.7967\n",
      "Epoch 15/50\n",
      "100/100 [==============================] - 35s 353ms/step - loss: 0.4082 - accuracy: 0.8280 - val_loss: 0.6900 - val_accuracy: 0.8000\n",
      "Epoch 16/50\n",
      "100/100 [==============================] - 34s 338ms/step - loss: 0.4022 - accuracy: 0.8310 - val_loss: 0.8722 - val_accuracy: 0.7800\n",
      "Epoch 17/50\n",
      "100/100 [==============================] - 34s 342ms/step - loss: 0.4224 - accuracy: 0.8250 - val_loss: 3.6709 - val_accuracy: 0.7533\n",
      "Epoch 18/50\n",
      "100/100 [==============================] - 35s 348ms/step - loss: 0.4107 - accuracy: 0.8370 - val_loss: 1.3529 - val_accuracy: 0.7967\n",
      "Epoch 19/50\n",
      "100/100 [==============================] - 35s 354ms/step - loss: 0.3808 - accuracy: 0.8450 - val_loss: 0.6801 - val_accuracy: 0.7767\n",
      "Epoch 20/50\n",
      "100/100 [==============================] - 35s 351ms/step - loss: 0.3859 - accuracy: 0.8300 - val_loss: 0.6988 - val_accuracy: 0.7567\n",
      "Epoch 21/50\n",
      "100/100 [==============================] - 34s 344ms/step - loss: 0.3853 - accuracy: 0.8260 - val_loss: 0.6640 - val_accuracy: 0.7633\n",
      "Epoch 22/50\n",
      "100/100 [==============================] - 35s 353ms/step - loss: 0.4103 - accuracy: 0.8350 - val_loss: 0.3494 - val_accuracy: 0.7900\n",
      "Epoch 23/50\n",
      "100/100 [==============================] - 34s 340ms/step - loss: 0.3685 - accuracy: 0.8420 - val_loss: 0.7518 - val_accuracy: 0.7733\n",
      "Epoch 24/50\n",
      "100/100 [==============================] - 35s 350ms/step - loss: 0.3797 - accuracy: 0.8350 - val_loss: 0.1923 - val_accuracy: 0.7700\n",
      "Epoch 25/50\n",
      "100/100 [==============================] - 35s 355ms/step - loss: 0.3725 - accuracy: 0.8420 - val_loss: 0.3083 - val_accuracy: 0.7700\n",
      "Epoch 26/50\n",
      "100/100 [==============================] - 35s 352ms/step - loss: 0.3437 - accuracy: 0.8610 - val_loss: 0.2288 - val_accuracy: 0.8033\n",
      "Epoch 27/50\n",
      "100/100 [==============================] - 35s 346ms/step - loss: 0.3757 - accuracy: 0.8700 - val_loss: 0.3494 - val_accuracy: 0.7800\n",
      "Epoch 28/50\n",
      "100/100 [==============================] - 33s 329ms/step - loss: 0.3520 - accuracy: 0.8500 - val_loss: 0.8083 - val_accuracy: 0.8000\n",
      "Epoch 29/50\n",
      "100/100 [==============================] - 34s 345ms/step - loss: 0.3536 - accuracy: 0.8810 - val_loss: 0.6016 - val_accuracy: 0.8000\n",
      "Epoch 30/50\n",
      "100/100 [==============================] - 36s 360ms/step - loss: 0.3148 - accuracy: 0.8790 - val_loss: 8.6990 - val_accuracy: 0.7667\n",
      "Epoch 31/50\n",
      "100/100 [==============================] - 36s 357ms/step - loss: 0.3392 - accuracy: 0.8680 - val_loss: 0.1687 - val_accuracy: 0.7067\n",
      "Epoch 32/50\n",
      "100/100 [==============================] - 36s 362ms/step - loss: 0.3805 - accuracy: 0.8550 - val_loss: 0.5925 - val_accuracy: 0.7800\n",
      "Epoch 33/50\n",
      "100/100 [==============================] - 35s 355ms/step - loss: 0.3718 - accuracy: 0.8680 - val_loss: 7.0530 - val_accuracy: 0.7967\n",
      "Epoch 34/50\n",
      "100/100 [==============================] - 36s 355ms/step - loss: 0.3436 - accuracy: 0.8640 - val_loss: 13.2612 - val_accuracy: 0.8300\n",
      "Epoch 35/50\n",
      "100/100 [==============================] - 35s 352ms/step - loss: 0.3294 - accuracy: 0.8760 - val_loss: 1.7873 - val_accuracy: 0.8067\n",
      "Epoch 36/50\n",
      "100/100 [==============================] - 35s 351ms/step - loss: 0.3529 - accuracy: 0.8630 - val_loss: 3.7253 - val_accuracy: 0.7967\n",
      "Epoch 37/50\n",
      "100/100 [==============================] - 36s 361ms/step - loss: 0.3482 - accuracy: 0.8700 - val_loss: 0.2084 - val_accuracy: 0.7500\n",
      "Epoch 38/50\n",
      "100/100 [==============================] - 36s 360ms/step - loss: 0.3773 - accuracy: 0.8630 - val_loss: 0.2382 - val_accuracy: 0.8033\n",
      "Epoch 39/50\n",
      "100/100 [==============================] - 35s 353ms/step - loss: 0.3943 - accuracy: 0.8730 - val_loss: 1.3915 - val_accuracy: 0.8233\n",
      "Epoch 40/50\n",
      "100/100 [==============================] - 35s 354ms/step - loss: 0.3261 - accuracy: 0.8690 - val_loss: 0.2575 - val_accuracy: 0.8033\n",
      "Epoch 41/50\n",
      "100/100 [==============================] - 36s 360ms/step - loss: 0.3483 - accuracy: 0.8570 - val_loss: 0.4452 - val_accuracy: 0.7600\n",
      "Epoch 42/50\n",
      "100/100 [==============================] - 35s 353ms/step - loss: 0.3676 - accuracy: 0.8680 - val_loss: 2.3881 - val_accuracy: 0.7933\n",
      "Epoch 43/50\n",
      "100/100 [==============================] - 36s 356ms/step - loss: 0.3751 - accuracy: 0.8680 - val_loss: 0.8772 - val_accuracy: 0.8200\n",
      "Epoch 44/50\n",
      "100/100 [==============================] - 36s 356ms/step - loss: 0.3198 - accuracy: 0.8840 - val_loss: 9.2482 - val_accuracy: 0.8000\n",
      "Epoch 45/50\n",
      "100/100 [==============================] - 34s 340ms/step - loss: 0.3696 - accuracy: 0.8710 - val_loss: 0.2049 - val_accuracy: 0.7500\n",
      "Epoch 46/50\n",
      "100/100 [==============================] - 34s 338ms/step - loss: 0.3271 - accuracy: 0.8860 - val_loss: 0.3924 - val_accuracy: 0.7933\n",
      "Epoch 47/50\n",
      "100/100 [==============================] - 34s 342ms/step - loss: 0.3919 - accuracy: 0.8640 - val_loss: 0.1948 - val_accuracy: 0.8367\n",
      "Epoch 48/50\n",
      "100/100 [==============================] - 35s 346ms/step - loss: 0.3742 - accuracy: 0.8760 - val_loss: 0.5256 - val_accuracy: 0.7133\n",
      "Epoch 49/50\n",
      "100/100 [==============================] - 35s 348ms/step - loss: 0.2995 - accuracy: 0.8830 - val_loss: 13.1639 - val_accuracy: 0.7367\n",
      "Epoch 50/50\n",
      "100/100 [==============================] - 35s 352ms/step - loss: 0.3836 - accuracy: 0.8790 - val_loss: 0.0965 - val_accuracy: 0.7733\n"
     ]
    },
    {
     "data": {
      "text/plain": [
       "<keras.callbacks.callbacks.History at 0x229e0a73f48>"
      ]
     },
     "execution_count": 20,
     "metadata": {},
     "output_type": "execute_result"
    }
   ],
   "source": [
    "# Fitting the CNN to the images\n",
    "\n",
    "print('starting training....')\n",
    "\n",
    "model.fit_generator(train_genarator,steps_per_epoch=train_sample,\n",
    "                    epochs=epochs,validation_data=validation_genarator,validation_steps=validation_sample)"
   ]
  },
  {
   "cell_type": "code",
   "execution_count": 21,
   "metadata": {},
   "outputs": [
    {
     "name": "stdout",
     "output_type": "stream",
     "text": [
      "training finished!!\n"
     ]
    }
   ],
   "source": [
    "print('training finished!!')"
   ]
  },
  {
   "cell_type": "code",
   "execution_count": 22,
   "metadata": {},
   "outputs": [],
   "source": [
    "#testing model\n",
    "test_imgs,test_labels =next(test_genarator)"
   ]
  },
  {
   "cell_type": "code",
   "execution_count": 23,
   "metadata": {},
   "outputs": [],
   "source": [
    "prediction = model.predict_generator(test_genarator,steps=1)"
   ]
  },
  {
   "cell_type": "code",
   "execution_count": 24,
   "metadata": {},
   "outputs": [],
   "source": [
    "def round_of_predictions(prediction):\n",
    "    for i in range(0,30):\n",
    "        if prediction[i]<=0.5 :\n",
    "            prediction[i]=0\n",
    "        else :\n",
    "            prediction[i]=1"
   ]
  },
  {
   "cell_type": "code",
   "execution_count": 25,
   "metadata": {},
   "outputs": [],
   "source": [
    "round_of_predictions(prediction)"
   ]
  },
  {
   "cell_type": "code",
   "execution_count": 26,
   "metadata": {},
   "outputs": [],
   "source": [
    "\n",
    "def plot_confusion_matrix(cm, classes,\n",
    "                          normalize=False,\n",
    "                          title='Confusion matrix',\n",
    "                          cmap=plt.cm.Blues):\n",
    "    \"\"\"\n",
    "    This function prints and plots the confusion matrix.\n",
    "    Normalization can be applied by setting `normalize=True`.\n",
    "    \"\"\"\n",
    "    plt.imshow(cm, interpolation='nearest', cmap=cmap)\n",
    "    plt.title(title)\n",
    "    plt.colorbar()\n",
    "    tick_marks = np.arange(len(classes))\n",
    "    plt.xticks(tick_marks, classes, rotation=45)\n",
    "    plt.yticks(tick_marks, classes)\n",
    "\n",
    "    if normalize:\n",
    "        cm = cm.astype('float') / cm.sum(axis=1)[:, np.newaxis]\n",
    "        print(\"Normalized confusion matrix\")\n",
    "    else:\n",
    "        print('Confusion matrix, without normalization')\n",
    "\n",
    "    print(cm)\n",
    "\n",
    "    thresh = cm.max() / 2.\n",
    "    for i, j in itertools.product(range(cm.shape[0]), range(cm.shape[1])):\n",
    "        plt.text(j, i, cm[i, j],\n",
    "                 horizontalalignment=\"center\",\n",
    "                 color=\"white\" if cm[i, j] > thresh else \"black\")\n",
    "\n",
    "    plt.tight_layout()\n",
    "    plt.ylabel('True label')\n",
    "    plt.xlabel('Predicted label')\n"
   ]
  },
  {
   "cell_type": "code",
   "execution_count": 27,
   "metadata": {},
   "outputs": [],
   "source": [
    "cn=confusion_matrix(test_labels,prediction)"
   ]
  },
  {
   "cell_type": "code",
   "execution_count": 28,
   "metadata": {},
   "outputs": [
    {
     "name": "stdout",
     "output_type": "stream",
     "text": [
      "Confusion matrix, without normalization\n",
      "[[12  3]\n",
      " [ 1 14]]\n"
     ]
    },
    {
     "data": {
      "image/png": "[encoded data removed]",
      "text/plain": [
       "<Figure size 432x288 with 2 Axes>"
      ]
     },
     "metadata": {
      "needs_background": "light"
     },
     "output_type": "display_data"
    }
   ],
   "source": [
    "cn_plot_labels=['odd','rotten']\n",
    "plot_confusion_matrix(cn,cn_plot_labels,title='Confusion Matrix')"
   ]
  },
  {
   "cell_type": "code",
   "execution_count": 59,
   "metadata": {},
   "outputs": [
    {
     "data": {
      "image/png": "[encoded data removed]",
      "text/plain": [
       "<Figure size 432x288 with 1 Axes>"
      ]
     },
     "metadata": {
      "needs_background": "light"
     },
     "output_type": "display_data"
    }
   ],
   "source": [
    "#Prediction of Single image\n",
    "%matplotlib inline\n",
    "import tensorflow\n",
    "from tensorflow.keras.preprocessing import image\n",
    "import matplotlib.pyplot as plt\n",
    "import numpy as np\n",
    "img1 = image.load_img('odd_vs_rotten/tomatoes_data/test/odd/images (55).jpg',target_size=(150,150))\n",
    "img = image.img_to_array(img1)\n",
    "img = img/255\n",
    "# create a batch of size 1 [N,H,W,C]\n",
    "img = np.expand_dims(img, axis=0)\n",
    "prediction = model.predict(img, batch_size=None,steps=1) #gives all class prob.\n",
    "if(prediction[:,:]>0.5):\n",
    "    value ='rotten :%1.2f'%(prediction[0,0])\n",
    "    plt.text(20, 62,value,color='red',fontsize=18,bbox=dict(facecolor='white',alpha=0.8))\n",
    "else:\n",
    "    value ='odd :%1.2f'%(1.0-prediction[0,0])\n",
    "    plt.text(20, 62,value,color='red',fontsize=18,bbox=dict(facecolor='white',alpha=0.8))\n",
    "\n",
    "plt.imshow(img1)\n",
    "plt.show()"
   ]
  },
  {
   "cell_type": "code",
   "execution_count": 70,
   "metadata": {},
   "outputs": [],
   "source": [
    "#Prediction of Single image\n",
    "\n",
    "img_pre=image.load_img('odd_vs_rotten/tomatoes_data/test/odd/images (55).jpg',target_size=(150,150))\n",
    "img_pre=image.img_to_array(img_pre)\n",
    "img_pre=np.expand_dims(img_pre,axis=0)"
   ]
  },
  {
   "cell_type": "code",
   "execution_count": 71,
   "metadata": {},
   "outputs": [
    {
     "name": "stdout",
     "output_type": "stream",
     "text": [
      "[[0.]]\n"
     ]
    }
   ],
   "source": [
    "result=model.predict(img_pre)\n",
    "print(result)"
   ]
  },
  {
   "cell_type": "code",
   "execution_count": 72,
   "metadata": {},
   "outputs": [
    {
     "name": "stdout",
     "output_type": "stream",
     "text": [
      "odd\n"
     ]
    }
   ],
   "source": [
    "if result[0][0]==0:\n",
    "    print(\"odd\")\n",
    "else :\n",
    "    print(\"rotten\")"
   ]
  },
  {
   "cell_type": "code",
   "execution_count": 73,
   "metadata": {},
   "outputs": [
    {
     "name": "stdout",
     "output_type": "stream",
     "text": [
      "model saved to disk....\n"
     ]
    }
   ],
   "source": [
    "##Save model to json\n",
    "import os\n",
    "from keras.models import model_from_json\n",
    "\n",
    "clssf = model.to_json()\n",
    "with open(\"OddOrRotten.json\", \"w\") as json_file:\n",
    "    json_file.write(clssf)\n",
    "model.save_weights(\"OddOrRotten.h5\")\n",
    "print(\"model saved to disk....\")"
   ]
  },
  {
   "cell_type": "code",
   "execution_count": null,
   "metadata": {},
   "outputs": [],
   "source": []
  }
 ],
 "metadata": {
  "kernelspec": {
   "display_name": "Python 3",
   "language": "python",
   "name": "python3"
  },
  "language_info": {
   "codemirror_mode": {
    "name": "ipython",
    "version": 3
   },
   "file_extension": ".py",
   "mimetype": "text/x-python",
   "name": "python",
   "nbconvert_exporter": "python",
   "pygments_lexer": "ipython3",
   "version": "3.7.6"
  }
 },
 "nbformat": 4,
 "nbformat_minor": 4
}
